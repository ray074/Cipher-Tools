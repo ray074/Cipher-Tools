{
 "cells": [
  {
   "cell_type": "code",
   "execution_count": 5,
   "id": "b3324c93-7049-4b8d-b752-10763748c658",
   "metadata": {},
   "outputs": [
    {
     "name": "stdin",
     "output_type": "stream",
     "text": [
      "Enter text encrypted with a Caesar Cypher: \n",
      "\n",
      " DW WKUHH R’FORFN SUHFLVHOB L ZDV DW EDNHU VWUHHW, EXW KROPHV KDG QRW BHW UHWXUQHG. WKH ODQGODGB LQIRUPHG PH WKDW KH KDG OHIW WKH KRXVH VKRUWOB DIWHU HLJKW R’FORFN LQ WKH PRUQLQJ. L VDW GRZQ EHVLGH WKH ILUH, KRZHYHU, ZLWK WKH LQWHQWLRQ RI DZDLWLQJ KLP, KRZHYHU ORQJ KH PLJKW EH.\n"
     ]
    },
    {
     "name": "stdout",
     "output_type": "stream",
     "text": [
      "\n",
      "SHIFT: 23\n",
      "\n",
      " AT THREE O’CLOCK PRECISELY I WAS AT BAKER STREET, BUT HOLMES HAD NOT YET RETURNED. THE LANDLADY INFORMED ME THAT HE HAD LEFT THE HOUSE SHORTLY AFTER EIGHT O’CLOCK IN THE MORNING. I SAT DOWN BESIDE THE FIRE, HOWEVER, WITH THE INTENTION OF AWAITING HIM, HOWEVER LONG HE MIGHT BE. \n",
      "\n"
     ]
    },
    {
     "name": "stdin",
     "output_type": "stream",
     "text": [
      "Valid?  y\n"
     ]
    }
   ],
   "source": [
    "def caesar(cipherText, shift):\n",
    "    cipherText = cipherText.upper()\n",
    "    cipherCopy = list(cipherText);\n",
    "    alpha = {chr(i + 65): i + 1 for i in range(26)}\n",
    "    rev, res, inc = {k: v for v, k in alpha.items()}, [], 0\n",
    "\n",
    "    for i in range(len(cipherText)):\n",
    "        if cipherText[i] in alpha.keys():\n",
    "            letter = cipherText[i]\n",
    "            num1 = alpha[letter]\n",
    "            num2 = num1 + shift\n",
    "            while num2 > 26:\n",
    "                num2 -= 26\n",
    "            res.append(rev[num2])\n",
    "\n",
    "    for i in range(len(cipherCopy)):\n",
    "        if cipherCopy[i] in alpha.keys():\n",
    "            cipherCopy[i] = res[inc]\n",
    "            inc += 1\n",
    "\n",
    "    return \"\".join(cipherCopy)\n",
    "\n",
    "def diffs(cipher):\n",
    "    \n",
    "    distributions = [\n",
    "      8.55, 1.60, 3.16, 3.87, 12.10, 2.18, 2.09, 4.96, 7.33, 0.22, 0.81, 4.21, 2.53,\n",
    "      7.17, 7.47, 2.07, 0.10, 6.33, 6.73, 8.94, 2.68, 1.06, 1.83, 0.19, 1.72, 0.11\n",
    "    ]\n",
    "    \n",
    "    alpha = list(\"ABCDEFGHIJKLMNOPQRSTUVWXYZ\")\n",
    "    counts, diff = {}, 0\n",
    "    length = len([l for l in cipher if l in alpha])\n",
    "\n",
    "    for letter in alpha:\n",
    "        value = cipher.count(letter) / length\n",
    "        value *= 100\n",
    "        counts[letter] = round(value, 8)\n",
    "       \n",
    "    for expected, real in zip(distributions, counts.values()):\n",
    "        diff += abs(expected - real)\n",
    "        \n",
    "    return diff\n",
    " \n",
    "def main():\n",
    "    final, m = [], []\n",
    "    cipherText = input(\"Enter text encrypted with a Caesar Cypher: \\n\\n\")\n",
    "\n",
    "    for shift in range(1, 26):\n",
    "        final.append([caesar(cipherText, shift)])\n",
    "\n",
    "    for cipher in final:\n",
    "        m.append(diffs(\"\".join(cipher)))\n",
    "    \n",
    "    print(f\"\\nSHIFT: {m.index(min(m)) + 1}\")\n",
    "    print(\"\\n\", caesar(cipherText, m.index(min(m)) + 1), \"\\n\")\n",
    "    \n",
    "    valid = input(\"Valid? \").lower()\n",
    "    if valid == \"y\" or valid == \"yes\":\n",
    "        return\n",
    "    else:\n",
    "        for cipher in final:\n",
    "            print()\n",
    "            print(cipher)\n",
    "    \n",
    "main()"
   ]
  },
  {
   "cell_type": "code",
   "execution_count": null,
   "id": "7fe87469-204e-472a-8ba2-28d91eefdb0b",
   "metadata": {},
   "outputs": [],
   "source": []
  },
  {
   "cell_type": "code",
   "execution_count": null,
   "id": "1bbecec0-4391-4147-873a-ff79024cd4c4",
   "metadata": {},
   "outputs": [],
   "source": []
  },
  {
   "cell_type": "code",
   "execution_count": null,
   "id": "610cb01c-b767-480d-ba64-266813595212",
   "metadata": {},
   "outputs": [],
   "source": []
  },
  {
   "cell_type": "code",
   "execution_count": null,
   "id": "0f9c9b58-822e-433c-aabf-da7a03752406",
   "metadata": {},
   "outputs": [],
   "source": []
  }
 ],
 "metadata": {
  "kernelspec": {
   "display_name": "Python 3 (ipykernel)",
   "language": "python",
   "name": "python3"
  },
  "language_info": {
   "codemirror_mode": {
    "name": "ipython",
    "version": 3
   },
   "file_extension": ".py",
   "mimetype": "text/x-python",
   "name": "python",
   "nbconvert_exporter": "python",
   "pygments_lexer": "ipython3",
   "version": "3.11.4"
  }
 },
 "nbformat": 4,
 "nbformat_minor": 5
}
